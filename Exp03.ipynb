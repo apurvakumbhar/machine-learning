{
  "nbformat": 4,
  "nbformat_minor": 0,
  "metadata": {
    "colab": {
      "provenance": [],
      "authorship_tag": "ABX9TyNr3af3WWejHdF12tJaXlog",
      "include_colab_link": true
    },
    "kernelspec": {
      "name": "python3",
      "display_name": "Python 3"
    },
    "language_info": {
      "name": "python"
    }
  },
  "cells": [
    {
      "cell_type": "markdown",
      "metadata": {
        "id": "view-in-github",
        "colab_type": "text"
      },
      "source": [
        "<a href=\"https://colab.research.google.com/github/apurvakumbhar/machine-learning/blob/main/Exp03.ipynb\" target=\"_parent\"><img src=\"https://colab.research.google.com/assets/colab-badge.svg\" alt=\"Open In Colab\"/></a>"
      ]
    },
    {
      "cell_type": "code",
      "execution_count": 20,
      "metadata": {
        "colab": {
          "base_uri": "https://localhost:8080/"
        },
        "id": "31ym895EB3Um",
        "outputId": "df76060d-e7ce-4f92-ec0f-be7baa0a44ce"
      },
      "outputs": [
        {
          "output_type": "stream",
          "name": "stdout",
          "text": [
            "Drive already mounted at /content/drive; to attempt to forcibly remount, call drive.mount(\"/content/drive\", force_remount=True).\n"
          ]
        }
      ],
      "source": [
        "from google.colab import drive\n",
        "drive.mount('/content/drive')"
      ]
    },
    {
      "cell_type": "code",
      "source": [
        "import pandas as pd\n",
        "import numpy as np\n",
        "\n",
        "csv_path= '/content/drive/MyDrive/ML/MAGIC_Gamma_Telescope.csv'\n",
        "df=pd.read_csv(csv_path)\n",
        "\n",
        "# Encode the 'class' column\n",
        "df['class'] = df['class'].map({'g': 0, 'h': 1})"
      ],
      "metadata": {
        "id": "KuO0hJ4sCfeI"
      },
      "execution_count": 21,
      "outputs": []
    },
    {
      "cell_type": "code",
      "source": [
        "X=df[['fLength','fWidth','fSize','fConc','fConc1','fAsym','fM3Long','fM3Trans','fAlpha','fDist']].values\n",
        "Y=df['class'].values"
      ],
      "metadata": {
        "id": "36yGU5PFDADI"
      },
      "execution_count": 22,
      "outputs": []
    },
    {
      "cell_type": "code",
      "source": [
        "from sklearn.model_selection import train_test_split\n",
        "\n",
        "X=df[['fLength','fWidth','fSize','fConc','fConc1','fAsym','fM3Long','fM3Trans','fAlpha','fDist']].values\n",
        "Y=df['class'].values\n",
        "\n",
        "X_train,X_test,Y_train,Y_test=train_test_split(X,Y,test_size=0.2,random_state=42)\n",
        "Y_train = Y_train.astype(np.float64)\n",
        "Y_test = Y_test.astype(np.float64)\n",
        "print(X.shape,X_train.shape,X_test.shape)"
      ],
      "metadata": {
        "colab": {
          "base_uri": "https://localhost:8080/"
        },
        "id": "xtLQF4odGipp",
        "outputId": "d1c848e0-2281-4882-8980-58c45f6bf3d5"
      },
      "execution_count": 23,
      "outputs": [
        {
          "output_type": "stream",
          "name": "stdout",
          "text": [
            "(19020, 10) (15216, 10) (3804, 10)\n"
          ]
        }
      ]
    },
    {
      "cell_type": "code",
      "source": [
        "w=np.zeros(X_train.shape[1])\n",
        "b=0\n",
        "\n",
        "learning_rate=0.01\n",
        "epochs=1000\n",
        "\n",
        "def compute_z(w,b,X):\n",
        "  z=np.dot(w,X.T)+b\n",
        "  return z\n",
        "\n",
        "def sigmoid(z):\n",
        "  return 1/(1+np.exp(-z))\n",
        "\n",
        "def compute_cost(Y_true,Y_pred):\n",
        "  m=len(Y_true)\n",
        "  # Add a small epsilon to prevent log(0)\n",
        "  epsilon = 1e-15\n",
        "  cost = - (1/m) * np.sum(Y_true*np.log(Y_pred + epsilon) + (1 - Y_true)*np.log(1 - Y_pred + epsilon))\n",
        "  return cost\n",
        "\n",
        "def compute_gradient(X,Y_true,Y_pred):\n",
        "  m=len(Y_true)\n",
        "  dw = (1/m)*np.dot(X.T,(Y_pred-Y_true))\n",
        "  db=(1/m)*np.sum(Y_pred-Y_true)\n",
        "  return dw,db"
      ],
      "metadata": {
        "id": "6z8p2s8jGnvF"
      },
      "execution_count": 27,
      "outputs": []
    },
    {
      "cell_type": "code",
      "source": [
        "import numpy as np\n",
        "\n",
        "for epoch in range(epochs):\n",
        "  z=compute_z(w,b,X_train)\n",
        "  Y_pred=sigmoid(z)\n",
        "  cost=compute_cost(Y_train,Y_pred)\n",
        "  dw,db=compute_gradient(X_train,Y_train,Y_pred)\n",
        "\n",
        "  w=w-learning_rate*dw\n",
        "  b=b-learning_rate*db\n",
        "\n",
        "  if epoch%100==0:\n",
        "    print(f'Epoch:{epoch},Cost:{cost}')\n",
        "\n",
        "z_test = compute_z(w, b, X_test)\n",
        "Y_pred_test = sigmoid(z_test)\n",
        "\n",
        "\n",
        "test_cost = compute_cost(Y_test, Y_pred_test)\n",
        "print(f\"Test Cost: {test_cost}\")"
      ],
      "metadata": {
        "colab": {
          "base_uri": "https://localhost:8080/"
        },
        "id": "O8WjpYa6Gu59",
        "outputId": "e9b554bf-42df-4a1f-9027-516978e5fab3"
      },
      "execution_count": 28,
      "outputs": [
        {
          "output_type": "stream",
          "name": "stdout",
          "text": [
            "Epoch:0,Cost:0.6931471805599435\n",
            "Epoch:100,Cost:11.355174724045044\n",
            "Epoch:200,Cost:11.579425498690874\n",
            "Epoch:300,Cost:10.69266267153718\n",
            "Epoch:400,Cost:10.91472690305468\n",
            "Epoch:500,Cost:6.094601720100262\n",
            "Epoch:600,Cost:10.932372538710961\n",
            "Epoch:700,Cost:10.6856092816253\n",
            "Epoch:800,Cost:6.360354377691029\n",
            "Epoch:900,Cost:6.120674596108191\n",
            "Test Cost: 10.822779879692632\n"
          ]
        }
      ]
    }
  ]
}